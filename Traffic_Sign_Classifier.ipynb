{
 "cells": [
  {
   "cell_type": "markdown",
   "metadata": {
    "deletable": true,
    "editable": true
   },
   "source": [
    "# Self-Driving Car Engineer Nanodegree\n",
    "\n",
    "## Deep Learning\n",
    "\n",
    "## Project: Build a Traffic Sign Recognition Classifier\n",
    "\n",
    "In this notebook, a template is provided for you to implement your functionality in stages, which is required to successfully complete this project. If additional code is required that cannot be included in the notebook, be sure that the Python code is successfully imported and included in your submission if necessary. \n",
    "\n",
    "> **Note**: Once you have completed all of the code implementations, you need to finalize your work by exporting the iPython Notebook as an HTML document. Before exporting the notebook to html, all of the code cells need to have been run so that reviewers can see the final implementation and output. You can then export the notebook by using the menu above and navigating to  \\n\",\n",
    "    \"**File -> Download as -> HTML (.html)**. Include the finished document along with this notebook as your submission. \n",
    "\n",
    "In addition to implementing code, there is a writeup to complete. The writeup should be completed in a separate file, which can be either a markdown file or a pdf document. There is a [write up template](https://github.com/udacity/CarND-Traffic-Sign-Classifier-Project/blob/master/writeup_template.md) that can be used to guide the writing process. Completing the code template and writeup template will cover all of the [rubric points](https://review.udacity.com/#!/rubrics/481/view) for this project.\n",
    "\n",
    "The [rubric](https://review.udacity.com/#!/rubrics/481/view) contains \"Stand Out Suggestions\" for enhancing the project beyond the minimum requirements. The stand out suggestions are optional. If you decide to pursue the \"stand out suggestions\", you can include the code in this Ipython notebook and also discuss the results in the writeup file.\n",
    "\n",
    "\n",
    ">**Note:** Code and Markdown cells can be executed using the **Shift + Enter** keyboard shortcut. In addition, Markdown cells can be edited by typically double-clicking the cell to enter edit mode."
   ]
  },
  {
   "cell_type": "markdown",
   "metadata": {
    "deletable": true,
    "editable": true
   },
   "source": [
    "---\n",
    "## Step 0: Load The Data"
   ]
  },
  {
   "cell_type": "code",
   "execution_count": 228,
   "metadata": {
    "collapsed": false,
    "deletable": true,
    "editable": true
   },
   "outputs": [],
   "source": [
    "# Load pickled data\n",
    "import pickle\n",
    "\n",
    "# TODO: Fill this in based on where you saved the training and testing data\n",
    "\n",
    "training_file = 'traffic-signs-data/train.p'\n",
    "validation_file = 'traffic-signs-data/valid.p'\n",
    "testing_file = 'traffic-signs-data/test.p'\n",
    "\n",
    "with open(training_file, mode='rb') as f:\n",
    "    train = pickle.load(f)\n",
    "with open(validation_file, mode='rb') as f:\n",
    "    valid = pickle.load(f)\n",
    "with open(testing_file, mode='rb') as f:\n",
    "    test = pickle.load(f)\n",
    "    \n",
    "X_train, y_train = train['features'], train['labels']\n",
    "X_valid, y_valid = valid['features'], valid['labels']\n",
    "X_test, y_test = test['features'], test['labels']"
   ]
  },
  {
   "cell_type": "markdown",
   "metadata": {
    "deletable": true,
    "editable": true
   },
   "source": [
    "---\n",
    "\n",
    "## Step 1: Dataset Summary & Exploration\n",
    "\n",
    "The pickled data is a dictionary with 4 key/value pairs:\n",
    "\n",
    "- `'features'` is a 4D array containing raw pixel data of the traffic sign images, (num examples, width, height, channels).\n",
    "- `'labels'` is a 1D array containing the label/class id of the traffic sign. The file `signnames.csv` contains id -> name mappings for each id.\n",
    "- `'sizes'` is a list containing tuples, (width, height) representing the original width and height the image.\n",
    "- `'coords'` is a list containing tuples, (x1, y1, x2, y2) representing coordinates of a bounding box around the sign in the image. **THESE COORDINATES ASSUME THE ORIGINAL IMAGE. THE PICKLED DATA CONTAINS RESIZED VERSIONS (32 by 32) OF THESE IMAGES**\n",
    "\n",
    "Complete the basic data summary below. Use python, numpy and/or pandas methods to calculate the data summary rather than hard coding the results. For example, the [pandas shape method](http://pandas.pydata.org/pandas-docs/stable/generated/pandas.DataFrame.shape.html) might be useful for calculating some of the summary results. "
   ]
  },
  {
   "cell_type": "markdown",
   "metadata": {
    "deletable": true,
    "editable": true
   },
   "source": [
    "### Provide a Basic Summary of the Data Set Using Python, Numpy and/or Pandas"
   ]
  },
  {
   "cell_type": "code",
   "execution_count": 229,
   "metadata": {
    "collapsed": false,
    "deletable": true,
    "editable": true
   },
   "outputs": [
    {
     "name": "stdout",
     "output_type": "stream",
     "text": [
      "Number of training examples = 34799\n",
      "Number of testing examples = 12630\n",
      "Image data shape = (32, 32, 3)\n",
      "Number of classes = 43\n"
     ]
    }
   ],
   "source": [
    "### Replace each question mark with the appropriate value. \n",
    "### Use python, pandas or numpy methods rather than hard coding the results\n",
    "\n",
    "# TODO: Number of training examples\n",
    "n_train = len(X_train)\n",
    "\n",
    "# TODO: Number of validation examples\n",
    "n_validation = len(X_valid)\n",
    "\n",
    "# TODO: Number of testing examples.\n",
    "n_test = len(X_test)\n",
    "\n",
    "# TODO: What's the shape of an traffic sign image?\n",
    "image_shape = X_train[0].shape\n",
    "\n",
    "# TODO: How many unique classes/labels there are in the dataset.\n",
    "n_classes = len(set(y_train))\n",
    "\n",
    "print(\"Number of training examples =\", n_train)\n",
    "print(\"Number of testing examples =\", n_test)\n",
    "print(\"Image data shape =\", image_shape)\n",
    "print(\"Number of classes =\", n_classes)"
   ]
  },
  {
   "cell_type": "markdown",
   "metadata": {
    "deletable": true,
    "editable": true
   },
   "source": [
    "### Include an exploratory visualization of the dataset"
   ]
  },
  {
   "cell_type": "markdown",
   "metadata": {
    "deletable": true,
    "editable": true
   },
   "source": [
    "Visualize the German Traffic Signs Dataset using the pickled file(s). This is open ended, suggestions include: plotting traffic sign images, plotting the count of each sign, etc. \n",
    "\n",
    "The [Matplotlib](http://matplotlib.org/) [examples](http://matplotlib.org/examples/index.html) and [gallery](http://matplotlib.org/gallery.html) pages are a great resource for doing visualizations in Python.\n",
    "\n",
    "**NOTE:** It's recommended you start with something simple first. If you wish to do more, come back to it after you've completed the rest of the sections. It can be interesting to look at the distribution of classes in the training, validation and test set. Is the distribution the same? Are there more examples of some classes than others?"
   ]
  },
  {
   "cell_type": "code",
   "execution_count": 230,
   "metadata": {
    "collapsed": false,
    "deletable": true,
    "editable": true
   },
   "outputs": [
    {
     "data": {
      "text/plain": [
       "<matplotlib.text.Text at 0x14620b3b860>"
      ]
     },
     "execution_count": 230,
     "metadata": {},
     "output_type": "execute_result"
    },
    {
     "data": {
      "image/png": "[encoded data removed]",
      "text/plain": [
       "<matplotlib.figure.Figure at 0x14620f12c50>"
      ]
     },
     "metadata": {},
     "output_type": "display_data"
    },
    {
     "data": {
      "image/png": "[encoded data removed]",
      "text/plain": [
       "<matplotlib.figure.Figure at 0x14620faf2b0>"
      ]
     },
     "metadata": {},
     "output_type": "display_data"
    },
    {
     "data": {
      "image/png": "[encoded data removed]",
      "text/plain": [
       "<matplotlib.figure.Figure at 0x14620cd7e10>"
      ]
     },
     "metadata": {},
     "output_type": "display_data"
    },
    {
     "data": {
      "image/png": "[encoded data removed]",
      "text/plain": [
       "<matplotlib.figure.Figure at 0x1462070cb00>"
      ]
     },
     "metadata": {},
     "output_type": "display_data"
    }
   ],
   "source": [
    "### Data exploration visualization code goes here.\n",
    "### Feel free to use as many code cells as needed.\n",
    "import random\n",
    "import matplotlib.pyplot as plt\n",
    "# Visualizations will be shown in the notebook.\n",
    "%matplotlib inline\n",
    "\n",
    "# Plot an example image from the training set\n",
    "index = random.randint(0, len(X_train))\n",
    "image = X_train[index].squeeze()\n",
    "\n",
    "plt.figure(figsize=(4,4))\n",
    "plt.imshow(image)\n",
    "plt.title('Example image (type = {0})'.format(y_train[index]))\n",
    "\n",
    "# Plot distributions of training, validation and test sets\n",
    "plt.figure(figsize=(10,4))\n",
    "plt.hist(y_train, n_classes, normed=1, facecolor='green', alpha=0.5, label='Train')\n",
    "plt.hist(y_valid, n_classes, normed=1, facecolor='blue', alpha=0.5, label='Valid')\n",
    "plt.legend(loc='upper right')\n",
    "plt.title('Training vs. Validation set distributions')\n",
    "\n",
    "plt.figure(figsize=(10,4))\n",
    "plt.hist(y_train, n_classes, normed=1, facecolor='green', alpha=0.5, label='Train')\n",
    "plt.hist(y_test, n_classes, normed=1, facecolor='red', alpha=0.5, label='Test')\n",
    "plt.legend(loc='upper right')\n",
    "plt.title('Training vs. Test set distributions')\n",
    "\n",
    "plt.figure(figsize=(10,4))\n",
    "plt.hist(y_valid, n_classes, normed=1, facecolor='blue', alpha=0.5, label='Valid')\n",
    "plt.hist(y_test, n_classes, normed=1, facecolor='red', alpha=0.5, label='Test')\n",
    "plt.legend(loc='upper right')\n",
    "plt.title('Validation vs. Test set distributions')"
   ]
  },
  {
   "cell_type": "markdown",
   "metadata": {
    "deletable": true,
    "editable": true
   },
   "source": [
    "----\n",
    "\n",
    "## Step 2: Design and Test a Model Architecture\n",
    "\n",
    "Design and implement a deep learning model that learns to recognize traffic signs. Train and test your model on the [German Traffic Sign Dataset](http://benchmark.ini.rub.de/?section=gtsrb&subsection=dataset).\n",
    "\n",
    "The LeNet-5 implementation shown in the [classroom](https://classroom.udacity.com/nanodegrees/nd013/parts/fbf77062-5703-404e-b60c-95b78b2f3f9e/modules/6df7ae49-c61c-4bb2-a23e-6527e69209ec/lessons/601ae704-1035-4287-8b11-e2c2716217ad/concepts/d4aca031-508f-4e0b-b493-e7b706120f81) at the end of the CNN lesson is a solid starting point. You'll have to change the number of classes and possibly the preprocessing, but aside from that it's plug and play! \n",
    "\n",
    "With the LeNet-5 solution from the lecture, you should expect a validation set accuracy of about 0.89. To meet specifications, the validation set accuracy will need to be at least 0.93. It is possible to get an even higher accuracy, but 0.93 is the minimum for a successful project submission. \n",
    "\n",
    "There are various aspects to consider when thinking about this problem:\n",
    "\n",
    "- Neural network architecture (is the network over or underfitting?)\n",
    "- Play around preprocessing techniques (normalization, rgb to grayscale, etc)\n",
    "- Number of examples per label (some have more than others).\n",
    "- Generate fake data.\n",
    "\n",
    "Here is an example of a [published baseline model on this problem](http://yann.lecun.com/exdb/publis/pdf/sermanet-ijcnn-11.pdf). It's not required to be familiar with the approach used in the paper but, it's good practice to try to read papers like these."
   ]
  },
  {
   "cell_type": "markdown",
   "metadata": {
    "deletable": true,
    "editable": true
   },
   "source": [
    "### Pre-process the Data Set (normalization, grayscale, etc.)"
   ]
  },
  {
   "cell_type": "markdown",
   "metadata": {
    "deletable": true,
    "editable": true
   },
   "source": [
    "Minimally, the image data should be normalized so that the data has mean zero and equal variance. For image data, `(pixel - 128)/ 128` is a quick way to approximately normalize the data and can be used in this project. \n",
    "\n",
    "Other pre-processing steps are optional. You can try different techniques to see if it improves performance. \n",
    "\n",
    "Use the code cell (or multiple code cells, if necessary) to implement the first step of your project."
   ]
  },
  {
   "cell_type": "code",
   "execution_count": 231,
   "metadata": {
    "collapsed": false,
    "deletable": true,
    "editable": true
   },
   "outputs": [
    {
     "name": "stdout",
     "output_type": "stream",
     "text": [
      "[[[28 25 24]\n",
      "  [27 24 23]\n",
      "  [27 24 22]\n",
      "  ..., \n",
      "  [32 28 24]\n",
      "  [31 27 25]\n",
      "  [31 27 26]]\n",
      "\n",
      " [[29 26 25]\n",
      "  [27 25 23]\n",
      "  [27 25 23]\n",
      "  ..., \n",
      "  [32 28 24]\n",
      "  [31 27 24]\n",
      "  [30 27 25]]\n",
      "\n",
      " [[28 26 26]\n",
      "  [27 25 23]\n",
      "  [26 25 23]\n",
      "  ..., \n",
      "  [32 28 24]\n",
      "  [31 27 24]\n",
      "  [30 27 25]]\n",
      "\n",
      " ..., \n",
      " [[27 24 23]\n",
      "  [28 25 24]\n",
      "  [30 25 24]\n",
      "  ..., \n",
      "  [27 24 23]\n",
      "  [28 24 22]\n",
      "  [29 25 22]]\n",
      "\n",
      " [[28 23 23]\n",
      "  [29 24 24]\n",
      "  [31 25 24]\n",
      "  ..., \n",
      "  [27 24 23]\n",
      "  [28 24 22]\n",
      "  [28 24 21]]\n",
      "\n",
      " [[29 23 23]\n",
      "  [30 24 24]\n",
      "  [32 24 23]\n",
      "  ..., \n",
      "  [27 24 22]\n",
      "  [27 23 21]\n",
      "  [26 22 20]]]\n",
      "[[[26]\n",
      "  [25]\n",
      "  [25]\n",
      "  ..., \n",
      "  [29]\n",
      "  [28]\n",
      "  [28]]\n",
      "\n",
      " [[27]\n",
      "  [25]\n",
      "  [25]\n",
      "  ..., \n",
      "  [29]\n",
      "  [28]\n",
      "  [28]]\n",
      "\n",
      " [[27]\n",
      "  [25]\n",
      "  [25]\n",
      "  ..., \n",
      "  [29]\n",
      "  [28]\n",
      "  [28]]\n",
      "\n",
      " ..., \n",
      " [[25]\n",
      "  [26]\n",
      "  [26]\n",
      "  ..., \n",
      "  [25]\n",
      "  [25]\n",
      "  [26]]\n",
      "\n",
      " [[24]\n",
      "  [25]\n",
      "  [27]\n",
      "  ..., \n",
      "  [25]\n",
      "  [25]\n",
      "  [25]]\n",
      "\n",
      " [[25]\n",
      "  [26]\n",
      "  [26]\n",
      "  ..., \n",
      "  [25]\n",
      "  [24]\n",
      "  [23]]]\n",
      "[[[-0.796875 ]\n",
      "  [-0.8046875]\n",
      "  [-0.8046875]\n",
      "  ..., \n",
      "  [-0.7734375]\n",
      "  [-0.78125  ]\n",
      "  [-0.78125  ]]\n",
      "\n",
      " [[-0.7890625]\n",
      "  [-0.8046875]\n",
      "  [-0.8046875]\n",
      "  ..., \n",
      "  [-0.7734375]\n",
      "  [-0.78125  ]\n",
      "  [-0.78125  ]]\n",
      "\n",
      " [[-0.7890625]\n",
      "  [-0.8046875]\n",
      "  [-0.8046875]\n",
      "  ..., \n",
      "  [-0.7734375]\n",
      "  [-0.78125  ]\n",
      "  [-0.78125  ]]\n",
      "\n",
      " ..., \n",
      " [[-0.8046875]\n",
      "  [-0.796875 ]\n",
      "  [-0.796875 ]\n",
      "  ..., \n",
      "  [-0.8046875]\n",
      "  [-0.8046875]\n",
      "  [-0.796875 ]]\n",
      "\n",
      " [[-0.8125   ]\n",
      "  [-0.8046875]\n",
      "  [-0.7890625]\n",
      "  ..., \n",
      "  [-0.8046875]\n",
      "  [-0.8046875]\n",
      "  [-0.8046875]]\n",
      "\n",
      " [[-0.8046875]\n",
      "  [-0.796875 ]\n",
      "  [-0.796875 ]\n",
      "  ..., \n",
      "  [-0.8046875]\n",
      "  [-0.8125   ]\n",
      "  [-0.8203125]]]\n",
      "[[[13 12 12]\n",
      "  [12 11 12]\n",
      "  [13 11 11]\n",
      "  ..., \n",
      "  [14 12 11]\n",
      "  [13 12 11]\n",
      "  [12 12 11]]\n",
      "\n",
      " [[13 12 13]\n",
      "  [12 11 12]\n",
      "  [13 12 12]\n",
      "  ..., \n",
      "  [13 12 11]\n",
      "  [13 12 11]\n",
      "  [12 12 11]]\n",
      "\n",
      " [[13 12 13]\n",
      "  [12 11 12]\n",
      "  [12 12 12]\n",
      "  ..., \n",
      "  [13 12 11]\n",
      "  [13 12 11]\n",
      "  [12 12 11]]\n",
      "\n",
      " ..., \n",
      " [[16 15 15]\n",
      "  [15 14 14]\n",
      "  [15 15 15]\n",
      "  ..., \n",
      "  [13 12 12]\n",
      "  [14 13 13]\n",
      "  [14 13 13]]\n",
      "\n",
      " [[18 16 16]\n",
      "  [17 15 15]\n",
      "  [18 16 16]\n",
      "  ..., \n",
      "  [12 11 11]\n",
      "  [13 12 12]\n",
      "  [14 13 13]]\n",
      "\n",
      " [[19 17 17]\n",
      "  [18 16 16]\n",
      "  [19 17 17]\n",
      "  ..., \n",
      "  [12 12 12]\n",
      "  [13 13 13]\n",
      "  [15 14 14]]]\n",
      "[[[12]\n",
      "  [11]\n",
      "  [12]\n",
      "  ..., \n",
      "  [12]\n",
      "  [12]\n",
      "  [12]]\n",
      "\n",
      " [[12]\n",
      "  [11]\n",
      "  [12]\n",
      "  ..., \n",
      "  [12]\n",
      "  [12]\n",
      "  [12]]\n",
      "\n",
      " [[12]\n",
      "  [11]\n",
      "  [12]\n",
      "  ..., \n",
      "  [12]\n",
      "  [12]\n",
      "  [12]]\n",
      "\n",
      " ..., \n",
      " [[15]\n",
      "  [14]\n",
      "  [15]\n",
      "  ..., \n",
      "  [12]\n",
      "  [13]\n",
      "  [13]]\n",
      "\n",
      " [[17]\n",
      "  [16]\n",
      "  [17]\n",
      "  ..., \n",
      "  [11]\n",
      "  [12]\n",
      "  [13]]\n",
      "\n",
      " [[18]\n",
      "  [17]\n",
      "  [18]\n",
      "  ..., \n",
      "  [12]\n",
      "  [13]\n",
      "  [14]]]\n",
      "[[[-0.90625  ]\n",
      "  [-0.9140625]\n",
      "  [-0.90625  ]\n",
      "  ..., \n",
      "  [-0.90625  ]\n",
      "  [-0.90625  ]\n",
      "  [-0.90625  ]]\n",
      "\n",
      " [[-0.90625  ]\n",
      "  [-0.9140625]\n",
      "  [-0.90625  ]\n",
      "  ..., \n",
      "  [-0.90625  ]\n",
      "  [-0.90625  ]\n",
      "  [-0.90625  ]]\n",
      "\n",
      " [[-0.90625  ]\n",
      "  [-0.9140625]\n",
      "  [-0.90625  ]\n",
      "  ..., \n",
      "  [-0.90625  ]\n",
      "  [-0.90625  ]\n",
      "  [-0.90625  ]]\n",
      "\n",
      " ..., \n",
      " [[-0.8828125]\n",
      "  [-0.890625 ]\n",
      "  [-0.8828125]\n",
      "  ..., \n",
      "  [-0.90625  ]\n",
      "  [-0.8984375]\n",
      "  [-0.8984375]]\n",
      "\n",
      " [[-0.8671875]\n",
      "  [-0.875    ]\n",
      "  [-0.8671875]\n",
      "  ..., \n",
      "  [-0.9140625]\n",
      "  [-0.90625  ]\n",
      "  [-0.8984375]]\n",
      "\n",
      " [[-0.859375 ]\n",
      "  [-0.8671875]\n",
      "  [-0.859375 ]\n",
      "  ..., \n",
      "  [-0.90625  ]\n",
      "  [-0.8984375]\n",
      "  [-0.890625 ]]]\n",
      "[[[116 139 174]\n",
      "  [116 137 171]\n",
      "  [118 138 172]\n",
      "  ..., \n",
      "  [ 98 114 143]\n",
      "  [ 97 121 147]\n",
      "  [ 85 105 130]]\n",
      "\n",
      " [[115 142 176]\n",
      "  [115 140 174]\n",
      "  [117 141 175]\n",
      "  ..., \n",
      "  [119 143 176]\n",
      "  [120 141 173]\n",
      "  [120 139 171]]\n",
      "\n",
      " [[117 141 174]\n",
      "  [117 142 175]\n",
      "  [114 140 172]\n",
      "  ..., \n",
      "  [120 144 179]\n",
      "  [122 144 179]\n",
      "  [120 143 177]]\n",
      "\n",
      " ..., \n",
      " [[117 137 167]\n",
      "  [115 134 164]\n",
      "  [117 135 164]\n",
      "  ..., \n",
      "  [115 137 169]\n",
      "  [116 136 168]\n",
      "  [118 139 172]]\n",
      "\n",
      " [[116 136 166]\n",
      "  [114 134 168]\n",
      "  [113 131 166]\n",
      "  ..., \n",
      "  [113 135 167]\n",
      "  [117 136 165]\n",
      "  [115 139 167]]\n",
      "\n",
      " [[112 135 167]\n",
      "  [110 134 165]\n",
      "  [119 135 165]\n",
      "  ..., \n",
      "  [115 138 167]\n",
      "  [117 138 167]\n",
      "  [114 140 170]]]\n",
      "[[[136]\n",
      "  [135]\n",
      "  [136]\n",
      "  ..., \n",
      "  [113]\n",
      "  [117]\n",
      "  [102]]\n",
      "\n",
      " [[138]\n",
      "  [136]\n",
      "  [138]\n",
      "  ..., \n",
      "  [140]\n",
      "  [138]\n",
      "  [137]]\n",
      "\n",
      " [[138]\n",
      "  [138]\n",
      "  [136]\n",
      "  ..., \n",
      "  [141]\n",
      "  [141]\n",
      "  [140]]\n",
      "\n",
      " ..., \n",
      " [[134]\n",
      "  [132]\n",
      "  [133]\n",
      "  ..., \n",
      "  [134]\n",
      "  [134]\n",
      "  [136]]\n",
      "\n",
      " [[133]\n",
      "  [132]\n",
      "  [130]\n",
      "  ..., \n",
      "  [132]\n",
      "  [134]\n",
      "  [135]]\n",
      "\n",
      " [[132]\n",
      "  [130]\n",
      "  [134]\n",
      "  ..., \n",
      "  [134]\n",
      "  [135]\n",
      "  [136]]]\n",
      "[[[ 0.0625   ]\n",
      "  [ 0.0546875]\n",
      "  [ 0.0625   ]\n",
      "  ..., \n",
      "  [-0.1171875]\n",
      "  [-0.0859375]\n",
      "  [-0.203125 ]]\n",
      "\n",
      " [[ 0.078125 ]\n",
      "  [ 0.0625   ]\n",
      "  [ 0.078125 ]\n",
      "  ..., \n",
      "  [ 0.09375  ]\n",
      "  [ 0.078125 ]\n",
      "  [ 0.0703125]]\n",
      "\n",
      " [[ 0.078125 ]\n",
      "  [ 0.078125 ]\n",
      "  [ 0.0625   ]\n",
      "  ..., \n",
      "  [ 0.1015625]\n",
      "  [ 0.1015625]\n",
      "  [ 0.09375  ]]\n",
      "\n",
      " ..., \n",
      " [[ 0.046875 ]\n",
      "  [ 0.03125  ]\n",
      "  [ 0.0390625]\n",
      "  ..., \n",
      "  [ 0.046875 ]\n",
      "  [ 0.046875 ]\n",
      "  [ 0.0625   ]]\n",
      "\n",
      " [[ 0.0390625]\n",
      "  [ 0.03125  ]\n",
      "  [ 0.015625 ]\n",
      "  ..., \n",
      "  [ 0.03125  ]\n",
      "  [ 0.046875 ]\n",
      "  [ 0.0546875]]\n",
      "\n",
      " [[ 0.03125  ]\n",
      "  [ 0.015625 ]\n",
      "  [ 0.046875 ]\n",
      "  ..., \n",
      "  [ 0.046875 ]\n",
      "  [ 0.0546875]\n",
      "  [ 0.0625   ]]]\n"
     ]
    },
    {
     "data": {
      "image/png": "[encoded data removed]",
      "text/plain": [
       "<matplotlib.figure.Figure at 0x14620eef4a8>"
      ]
     },
     "metadata": {},
     "output_type": "display_data"
    },
    {
     "data": {
      "image/png": "[encoded data removed]",
      "text/plain": [
       "<matplotlib.figure.Figure at 0x1462035d7b8>"
      ]
     },
     "metadata": {},
     "output_type": "display_data"
    }
   ],
   "source": [
    "### Preprocess the data here. It is required to normalize the data. Other preprocessing steps could include \n",
    "### converting to grayscale, etc.\n",
    "### Feel free to use as many code cells as needed.\n",
    "\n",
    "import cv2\n",
    "import numpy as np\n",
    "\n",
    "normalise_pixels = True\n",
    "convert_to_grayscale = True\n",
    "\n",
    "def normalise(x):\n",
    "    return np.divide(np.subtract(x, 128.0), 128.0)\n",
    "\n",
    "def grayscale(x):\n",
    "    return np.expand_dims([cv2.cvtColor(img, cv2.COLOR_RGB2GRAY) for img in x], axis=3)\n",
    "\n",
    "def preprocess(x):\n",
    "    \n",
    "    print(x[0])\n",
    "    \n",
    "    if(convert_to_grayscale):\n",
    "        x = grayscale(x)\n",
    "        \n",
    "    print(x[0])\n",
    "    \n",
    "    if(normalise_pixels):\n",
    "        x = normalise(x)\n",
    "    \n",
    "    print(x[0])\n",
    "    \n",
    "    return x\n",
    "\n",
    "img = X_train[0]\n",
    "gray = cv2.cvtColor(img, cv2.COLOR_RGB2GRAY)\n",
    "\n",
    "plt.figure(figsize=(4,4))\n",
    "plt.imshow(img)\n",
    "plt.title('Colour image')\n",
    "\n",
    "plt.figure(figsize=(4,4))\n",
    "plt.imshow(gray, cmap='gray')\n",
    "plt.title('Grayscale image')\n",
    "\n",
    "# Normalise training data\n",
    "X_train = preprocess(X_train)\n",
    "X_valid = preprocess(X_valid)\n",
    "X_test = preprocess(X_test)\n",
    "\n",
    "# Store number of channels\n",
    "n_channels = 1 if convert_to_grayscale else 3"
   ]
  },
  {
   "cell_type": "markdown",
   "metadata": {
    "deletable": true,
    "editable": true
   },
   "source": [
    "### Model Architecture"
   ]
  },
  {
   "cell_type": "code",
   "execution_count": 232,
   "metadata": {
    "collapsed": true,
    "deletable": true,
    "editable": true
   },
   "outputs": [],
   "source": [
    "### Define your architecture here.\n",
    "### Feel free to use as many code cells as needed."
   ]
  },
  {
   "cell_type": "code",
   "execution_count": 275,
   "metadata": {
    "collapsed": true
   },
   "outputs": [],
   "source": [
    "import tensorflow as tf\n",
    "\n",
    "# Training iterations and batch size\n",
    "EPOCHS = 10              # Default = 10\n",
    "BATCH_SIZE = 64          # Default = 128\n",
    "\n",
    "# Learing rate\n",
    "LEARING_RATE = 0.0015     # Default = 0.001\n",
    "\n",
    "# Weight initialisation mean and standard deviation\n",
    "MU = 0                   # Default = 0\n",
    "SIGMA = 0.1              # Default = 0.1\n",
    "\n",
    "# Dropout parameters\n",
    "DROPOUT_KEEP_PROB = 0.75 # Default = 0.75"
   ]
  },
  {
   "cell_type": "code",
   "execution_count": 276,
   "metadata": {
    "collapsed": true
   },
   "outputs": [],
   "source": [
    "from tensorflow.contrib.layers import flatten\n",
    "\n",
    "def LeNet(x):\n",
    "    \n",
    "    # TODO: Layer 1: Convolutional. Input = 32 x 32 x n_channels. Output = 28x28x6.\n",
    "    weights1 = tf.Variable (tf.truncated_normal(shape=(5,5,n_channels,6), mean=MU, stddev=SIGMA))\n",
    "    biases1 = tf.Variable (tf.zeros(6))\n",
    "    layer1 = tf.nn.conv2d(x, weights1, strides=[1,1,1,1], padding='VALID') + biases1\n",
    "\n",
    "    # TODO: Activation.\n",
    "    layer1 = tf.nn.relu(layer1)\n",
    "\n",
    "    # TODO: Pooling. Input = 28x28x6. Output = 14x14x6.\n",
    "    layer1 = tf.nn.max_pool(layer1, ksize=[1,2,2,1], strides=[1,2,2,1], padding='VALID')\n",
    "\n",
    "    # TODO: Layer 2: Convolutional. Output = 10x10x16.\n",
    "    weights2 = tf.Variable (tf.truncated_normal(shape=(5,5,6,16), mean=MU, stddev=SIGMA))\n",
    "    biases2 = tf.Variable (tf.zeros(16))\n",
    "    layer2 = tf.nn.conv2d(layer1, weights2, strides=[1,1,1,1], padding='VALID') + biases2\n",
    "    \n",
    "    # TODO: Activation.\n",
    "    layer2 = tf.nn.relu(layer2)\n",
    "\n",
    "    # TODO: Pooling. Input = 10x10x16. Output = 5x5x16.\n",
    "    layer2 = tf.nn.max_pool(layer2, ksize=[1,2,2,1], strides=[1,2,2,1], padding='VALID')\n",
    "\n",
    "    # TODO: Flatten. Input = 5x5x16. Output = 400.\n",
    "    layer2 = flatten(layer2)\n",
    "    \n",
    "    # TODO: Layer 3: Fully Connected. Input = 400. Output = 120.\n",
    "    weights3 = tf.Variable (tf.truncated_normal(shape=(400, 120), mean=MU, stddev=SIGMA))\n",
    "    biases3 = tf.Variable (tf.zeros(120))\n",
    "    layer3 = tf.matmul(layer2, weights3) + biases3\n",
    "    \n",
    "    # Dropout\n",
    "    layer3 = tf.nn.dropout(layer3, keep_prob)\n",
    "    \n",
    "    # TODO: Activation.\n",
    "    layer3 = tf.nn.relu(layer3)\n",
    "\n",
    "    # TODO: Layer 4: Fully Connected. Input = 120. Output = 84.\n",
    "    weights4 = tf.Variable (tf.truncated_normal(shape=(120, 84), mean=MU, stddev=SIGMA))\n",
    "    biases4 = tf.Variable (tf.zeros(84))\n",
    "    layer4 = tf.matmul(layer3, weights4) + biases4\n",
    "    \n",
    "    # Dropout\n",
    "    layer4 = tf.nn.dropout(layer4, keep_prob)\n",
    "    \n",
    "    # TODO: Activation.\n",
    "    layer4 = tf.nn.relu(layer4)\n",
    "\n",
    "    # TODO: Layer 5: Fully Connected. Input = 84. Output = n_classes.\n",
    "    weights5 = tf.Variable (tf.truncated_normal(shape=(84, n_classes), mean=MU, stddev=SIGMA))\n",
    "    biases5 = tf.Variable (tf.zeros(n_classes))\n",
    "    logits = tf.matmul(layer4, weights5) + biases5\n",
    "    \n",
    "    return logits"
   ]
  },
  {
   "cell_type": "code",
   "execution_count": 277,
   "metadata": {
    "collapsed": false
   },
   "outputs": [],
   "source": [
    "x = tf.placeholder(tf.float32, (None, 32, 32, n_channels))\n",
    "y = tf.placeholder(tf.int32, (None))\n",
    "keep_prob = tf.placeholder(tf.float32) # probability to keep units\n",
    "    \n",
    "one_hot_y = tf.one_hot(y, n_classes)"
   ]
  },
  {
   "cell_type": "markdown",
   "metadata": {
    "deletable": true,
    "editable": true
   },
   "source": [
    "### Train, Validate and Test the Model"
   ]
  },
  {
   "cell_type": "markdown",
   "metadata": {
    "deletable": true,
    "editable": true
   },
   "source": [
    "A validation set can be used to assess how well the model is performing. A low accuracy on the training and validation\n",
    "sets imply underfitting. A high accuracy on the training set but low accuracy on the validation set implies overfitting."
   ]
  },
  {
   "cell_type": "code",
   "execution_count": 278,
   "metadata": {
    "collapsed": true,
    "deletable": true,
    "editable": true
   },
   "outputs": [],
   "source": [
    "### Train your model here.\n",
    "### Calculate and report the accuracy on the training and validation set.\n",
    "### Once a final model architecture is selected, \n",
    "### the accuracy on the test set should be calculated and reported as well.\n",
    "### Feel free to use as many code cells as needed."
   ]
  },
  {
   "cell_type": "markdown",
   "metadata": {},
   "source": [
    "Set up cost function and optimiser"
   ]
  },
  {
   "cell_type": "code",
   "execution_count": 279,
   "metadata": {
    "collapsed": false
   },
   "outputs": [],
   "source": [
    "logits = LeNet(x)\n",
    "cross_entropy = tf.nn.softmax_cross_entropy_with_logits(logits=logits, labels=one_hot_y)\n",
    "loss_operation = tf.reduce_mean(cross_entropy)\n",
    "optimizer = tf.train.AdamOptimizer(learning_rate = LEARING_RATE)\n",
    "training_operation = optimizer.minimize(loss_operation)"
   ]
  },
  {
   "cell_type": "markdown",
   "metadata": {},
   "source": [
    "Evaluate how well the model fits the validation data"
   ]
  },
  {
   "cell_type": "code",
   "execution_count": 280,
   "metadata": {
    "collapsed": true
   },
   "outputs": [],
   "source": [
    "correct_prediction = tf.equal(tf.argmax(logits, 1), tf.argmax(one_hot_y, 1))\n",
    "accuracy_operation = tf.reduce_mean(tf.cast(correct_prediction, tf.float32))\n",
    "saver = tf.train.Saver()\n",
    "\n",
    "def evaluate(X_data, y_data):\n",
    "    num_examples = len(X_data)\n",
    "    total_accuracy = 0\n",
    "    sess = tf.get_default_session()\n",
    "    for offset in range(0, num_examples, BATCH_SIZE):\n",
    "        batch_x, batch_y = X_data[offset:offset+BATCH_SIZE], y_data[offset:offset+BATCH_SIZE]\n",
    "        accuracy = sess.run(accuracy_operation, feed_dict={x: batch_x, y: batch_y, keep_prob: 1.0})\n",
    "        total_accuracy += (accuracy * len(batch_x))\n",
    "    return total_accuracy / num_examples"
   ]
  },
  {
   "cell_type": "markdown",
   "metadata": {},
   "source": [
    "Train the model"
   ]
  },
  {
   "cell_type": "code",
   "execution_count": 281,
   "metadata": {
    "collapsed": false
   },
   "outputs": [
    {
     "name": "stdout",
     "output_type": "stream",
     "text": [
      "Training...\n",
      "\n",
      "EPOCH 1 ...\n",
      "Validation Accuracy = 0.839\n",
      "\n",
      "EPOCH 2 ...\n",
      "Validation Accuracy = 0.902\n",
      "\n",
      "EPOCH 3 ...\n",
      "Validation Accuracy = 0.920\n",
      "\n",
      "EPOCH 4 ...\n",
      "Validation Accuracy = 0.934\n",
      "\n",
      "EPOCH 5 ...\n",
      "Validation Accuracy = 0.941\n",
      "\n",
      "EPOCH 6 ...\n",
      "Validation Accuracy = 0.946\n",
      "\n",
      "EPOCH 7 ...\n",
      "Validation Accuracy = 0.956\n",
      "\n",
      "EPOCH 8 ...\n",
      "Validation Accuracy = 0.949\n",
      "\n",
      "EPOCH 9 ...\n",
      "Validation Accuracy = 0.953\n",
      "\n",
      "EPOCH 10 ...\n",
      "Validation Accuracy = 0.958\n",
      "\n",
      "Model saved\n"
     ]
    }
   ],
   "source": [
    "from sklearn.utils import shuffle\n",
    "\n",
    "with tf.Session() as sess:\n",
    "    sess.run(tf.global_variables_initializer())\n",
    "    num_examples = len(X_train)\n",
    "    \n",
    "    print(\"Training...\")\n",
    "    print()\n",
    "    for i in range(EPOCHS):\n",
    "        X_train, y_train = shuffle(X_train, y_train)\n",
    "        for offset in range(0, num_examples, BATCH_SIZE):\n",
    "            end = offset + BATCH_SIZE\n",
    "            batch_x, batch_y = X_train[offset:end], y_train[offset:end]\n",
    "            sess.run(training_operation, feed_dict={x: batch_x, y: batch_y, keep_prob: DROPOUT_KEEP_PROB})\n",
    "            \n",
    "        validation_accuracy = evaluate(X_valid, y_valid)\n",
    "        print(\"EPOCH {} ...\".format(i+1))\n",
    "        print(\"Validation Accuracy = {:.3f}\".format(validation_accuracy))\n",
    "        print()\n",
    "        \n",
    "    saver.save(sess, './lenet')\n",
    "    print(\"Model saved\")"
   ]
  },
  {
   "cell_type": "markdown",
   "metadata": {
    "deletable": true,
    "editable": true
   },
   "source": [
    "---\n",
    "\n",
    "## Step 3: Test a Model on New Images\n",
    "\n",
    "To give yourself more insight into how your model is working, download at least five pictures of German traffic signs from the web and use your model to predict the traffic sign type.\n",
    "\n",
    "You may find `signnames.csv` useful as it contains mappings from the class id (integer) to the actual sign name."
   ]
  },
  {
   "cell_type": "markdown",
   "metadata": {
    "deletable": true,
    "editable": true
   },
   "source": [
    "### Load and Output the Images"
   ]
  },
  {
   "cell_type": "code",
   "execution_count": null,
   "metadata": {
    "collapsed": true,
    "deletable": true,
    "editable": true
   },
   "outputs": [],
   "source": [
    "### Load the images and plot them here.\n",
    "### Feel free to use as many code cells as needed."
   ]
  },
  {
   "cell_type": "markdown",
   "metadata": {
    "deletable": true,
    "editable": true
   },
   "source": [
    "### Predict the Sign Type for Each Image"
   ]
  },
  {
   "cell_type": "code",
   "execution_count": null,
   "metadata": {
    "collapsed": true,
    "deletable": true,
    "editable": true
   },
   "outputs": [],
   "source": [
    "### Run the predictions here and use the model to output the prediction for each image.\n",
    "### Make sure to pre-process the images with the same pre-processing pipeline used earlier.\n",
    "### Feel free to use as many code cells as needed."
   ]
  },
  {
   "cell_type": "markdown",
   "metadata": {
    "deletable": true,
    "editable": true
   },
   "source": [
    "### Analyze Performance"
   ]
  },
  {
   "cell_type": "code",
   "execution_count": null,
   "metadata": {
    "collapsed": true,
    "deletable": true,
    "editable": true
   },
   "outputs": [],
   "source": [
    "### Calculate the accuracy for these 5 new images. \n",
    "### For example, if the model predicted 1 out of 5 signs correctly, it's 20% accurate on these new images."
   ]
  },
  {
   "cell_type": "markdown",
   "metadata": {
    "deletable": true,
    "editable": true
   },
   "source": [
    "### Output Top 5 Softmax Probabilities For Each Image Found on the Web"
   ]
  },
  {
   "cell_type": "markdown",
   "metadata": {
    "deletable": true,
    "editable": true
   },
   "source": [
    "For each of the new images, print out the model's softmax probabilities to show the **certainty** of the model's predictions (limit the output to the top 5 probabilities for each image). [`tf.nn.top_k`](https://www.tensorflow.org/versions/r0.12/api_docs/python/nn.html#top_k) could prove helpful here. \n",
    "\n",
    "The example below demonstrates how tf.nn.top_k can be used to find the top k predictions for each image.\n",
    "\n",
    "`tf.nn.top_k` will return the values and indices (class ids) of the top k predictions. So if k=3, for each sign, it'll return the 3 largest probabilities (out of a possible 43) and the correspoding class ids.\n",
    "\n",
    "Take this numpy array as an example. The values in the array represent predictions. The array contains softmax probabilities for five candidate images with six possible classes. `tk.nn.top_k` is used to choose the three classes with the highest probability:\n",
    "\n",
    "```\n",
    "# (5, 6) array\n",
    "a = np.array([[ 0.24879643,  0.07032244,  0.12641572,  0.34763842,  0.07893497,\n",
    "         0.12789202],\n",
    "       [ 0.28086119,  0.27569815,  0.08594638,  0.0178669 ,  0.18063401,\n",
    "         0.15899337],\n",
    "       [ 0.26076848,  0.23664738,  0.08020603,  0.07001922,  0.1134371 ,\n",
    "         0.23892179],\n",
    "       [ 0.11943333,  0.29198961,  0.02605103,  0.26234032,  0.1351348 ,\n",
    "         0.16505091],\n",
    "       [ 0.09561176,  0.34396535,  0.0643941 ,  0.16240774,  0.24206137,\n",
    "         0.09155967]])\n",
    "```\n",
    "\n",
    "Running it through `sess.run(tf.nn.top_k(tf.constant(a), k=3))` produces:\n",
    "\n",
    "```\n",
    "TopKV2(values=array([[ 0.34763842,  0.24879643,  0.12789202],\n",
    "       [ 0.28086119,  0.27569815,  0.18063401],\n",
    "       [ 0.26076848,  0.23892179,  0.23664738],\n",
    "       [ 0.29198961,  0.26234032,  0.16505091],\n",
    "       [ 0.34396535,  0.24206137,  0.16240774]]), indices=array([[3, 0, 5],\n",
    "       [0, 1, 4],\n",
    "       [0, 5, 1],\n",
    "       [1, 3, 5],\n",
    "       [1, 4, 3]], dtype=int32))\n",
    "```\n",
    "\n",
    "Looking just at the first row we get `[ 0.34763842,  0.24879643,  0.12789202]`, you can confirm these are the 3 largest probabilities in `a`. You'll also notice `[3, 0, 5]` are the corresponding indices."
   ]
  },
  {
   "cell_type": "code",
   "execution_count": null,
   "metadata": {
    "collapsed": true,
    "deletable": true,
    "editable": true
   },
   "outputs": [],
   "source": [
    "### Print out the top five softmax probabilities for the predictions on the German traffic sign images found on the web. \n",
    "### Feel free to use as many code cells as needed."
   ]
  },
  {
   "cell_type": "markdown",
   "metadata": {
    "deletable": true,
    "editable": true
   },
   "source": [
    "### Project Writeup\n",
    "\n",
    "Once you have completed the code implementation, document your results in a project writeup using this [template](https://github.com/udacity/CarND-Traffic-Sign-Classifier-Project/blob/master/writeup_template.md) as a guide. The writeup can be in a markdown or pdf file. "
   ]
  },
  {
   "cell_type": "markdown",
   "metadata": {
    "deletable": true,
    "editable": true
   },
   "source": [
    "> **Note**: Once you have completed all of the code implementations and successfully answered each question above, you may finalize your work by exporting the iPython Notebook as an HTML document. You can do this by using the menu above and navigating to  \\n\",\n",
    "    \"**File -> Download as -> HTML (.html)**. Include the finished document along with this notebook as your submission."
   ]
  },
  {
   "cell_type": "markdown",
   "metadata": {
    "deletable": true,
    "editable": true
   },
   "source": [
    "---\n",
    "\n",
    "## Step 4 (Optional): Visualize the Neural Network's State with Test Images\n",
    "\n",
    " This Section is not required to complete but acts as an additional excersise for understaning the output of a neural network's weights. While neural networks can be a great learning device they are often referred to as a black box. We can understand what the weights of a neural network look like better by plotting their feature maps. After successfully training your neural network you can see what it's feature maps look like by plotting the output of the network's weight layers in response to a test stimuli image. From these plotted feature maps, it's possible to see what characteristics of an image the network finds interesting. For a sign, maybe the inner network feature maps react with high activation to the sign's boundary outline or to the contrast in the sign's painted symbol.\n",
    "\n",
    " Provided for you below is the function code that allows you to get the visualization output of any tensorflow weight layer you want. The inputs to the function should be a stimuli image, one used during training or a new one you provided, and then the tensorflow variable name that represents the layer's state during the training process, for instance if you wanted to see what the [LeNet lab's](https://classroom.udacity.com/nanodegrees/nd013/parts/fbf77062-5703-404e-b60c-95b78b2f3f9e/modules/6df7ae49-c61c-4bb2-a23e-6527e69209ec/lessons/601ae704-1035-4287-8b11-e2c2716217ad/concepts/d4aca031-508f-4e0b-b493-e7b706120f81) feature maps looked like for it's second convolutional layer you could enter conv2 as the tf_activation variable.\n",
    "\n",
    "For an example of what feature map outputs look like, check out NVIDIA's results in their paper [End-to-End Deep Learning for Self-Driving Cars](https://devblogs.nvidia.com/parallelforall/deep-learning-self-driving-cars/) in the section Visualization of internal CNN State. NVIDIA was able to show that their network's inner weights had high activations to road boundary lines by comparing feature maps from an image with a clear path to one without. Try experimenting with a similar test to show that your trained network's weights are looking for interesting features, whether it's looking at differences in feature maps from images with or without a sign, or even what feature maps look like in a trained network vs a completely untrained one on the same sign image.\n",
    "\n",
    "<figure>\n",
    " <img src=\"visualize_cnn.png\" width=\"380\" alt=\"Combined Image\" />\n",
    " <figcaption>\n",
    " <p></p> \n",
    " <p style=\"text-align: center;\"> Your output should look something like this (above)</p> \n",
    " </figcaption>\n",
    "</figure>\n",
    " <p></p> \n"
   ]
  },
  {
   "cell_type": "code",
   "execution_count": null,
   "metadata": {
    "collapsed": true,
    "deletable": true,
    "editable": true
   },
   "outputs": [],
   "source": [
    "### Visualize your network's feature maps here.\n",
    "### Feel free to use as many code cells as needed.\n",
    "\n",
    "# image_input: the test image being fed into the network to produce the feature maps\n",
    "# tf_activation: should be a tf variable name used during your training procedure that represents the calculated state of a specific weight layer\n",
    "# activation_min/max: can be used to view the activation contrast in more detail, by default matplot sets min and max to the actual min and max values of the output\n",
    "# plt_num: used to plot out multiple different weight feature map sets on the same block, just extend the plt number for each new feature map entry\n",
    "\n",
    "def outputFeatureMap(image_input, tf_activation, activation_min=-1, activation_max=-1 ,plt_num=1):\n",
    "    # Here make sure to preprocess your image_input in a way your network expects\n",
    "    # with size, normalization, ect if needed\n",
    "    # image_input =\n",
    "    # Note: x should be the same name as your network's tensorflow data placeholder variable\n",
    "    # If you get an error tf_activation is not defined it may be having trouble accessing the variable from inside a function\n",
    "    activation = tf_activation.eval(session=sess,feed_dict={x : image_input})\n",
    "    featuremaps = activation.shape[3]\n",
    "    plt.figure(plt_num, figsize=(15,15))\n",
    "    for featuremap in range(featuremaps):\n",
    "        plt.subplot(6,8, featuremap+1) # sets the number of feature maps to show on each row and column\n",
    "        plt.title('FeatureMap ' + str(featuremap)) # displays the feature map number\n",
    "        if activation_min != -1 & activation_max != -1:\n",
    "            plt.imshow(activation[0,:,:, featuremap], interpolation=\"nearest\", vmin =activation_min, vmax=activation_max, cmap=\"gray\")\n",
    "        elif activation_max != -1:\n",
    "            plt.imshow(activation[0,:,:, featuremap], interpolation=\"nearest\", vmax=activation_max, cmap=\"gray\")\n",
    "        elif activation_min !=-1:\n",
    "            plt.imshow(activation[0,:,:, featuremap], interpolation=\"nearest\", vmin=activation_min, cmap=\"gray\")\n",
    "        else:\n",
    "            plt.imshow(activation[0,:,:, featuremap], interpolation=\"nearest\", cmap=\"gray\")"
   ]
  }
 ],
 "metadata": {
  "anaconda-cloud": {},
  "kernelspec": {
   "display_name": "Python 3",
   "language": "python",
   "name": "python3"
  },
  "language_info": {
   "codemirror_mode": {
    "name": "ipython",
    "version": 3
   },
   "file_extension": ".py",
   "mimetype": "text/x-python",
   "name": "python",
   "nbconvert_exporter": "python",
   "pygments_lexer": "ipython3",
   "version": "3.5.2"
  },
  "widgets": {
   "state": {},
   "version": "1.1.2"
  }
 },
 "nbformat": 4,
 "nbformat_minor": 1
}
